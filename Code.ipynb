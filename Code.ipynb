{
 "cells": [
  {
   "cell_type": "markdown",
   "metadata": {},
   "source": [
    "# First Search Program"
   ]
  },
  {
   "cell_type": "markdown",
   "metadata": {},
   "source": [
    "I defined a function \"search\", which is the only function I'm going to run in the end.   \n",
    "\n",
    "* To check cells once they're expanded so we don't expand them again, I define an array called \"closed\" as the same size as my grid and it has two values( 0 and 1) 0 being it's still open, 1 meaning it's being closed.(You could also use Booleans).\n",
    "\n",
    "* I initialize the starting location as checked and assign the coordinates to x, y, and a g-value of 0.and my initial open list is going to be just 1 element of my initial coordinates and the g value of 0.\n",
    "\n",
    "* Inside the code I use two flags--one is found, which will be true when the goal position is found, and one is resign, which will be true if I don't find a goal position and I've explored everything( be the case when my open list just turns empty without finding the goal).\n",
    "\n",
    "The main code: I repeat while I haven't found a path to the goal and I haven't proven that the problem is unsolvable (Both found and resign are false).\n",
    "\n",
    "* If my open list is empty, there's nothing to expand, then resign is true, and I print \"fail (This is one of the 2 terminating conditions).\n",
    "\n",
    "* If there is still elements in the open list, the else case comes into place.\n",
    "\n",
    " * I use the list sort function, which sorts elements in increasing order from the smallest g-value up.\n",
    " * I reversed the list because it's important that the g-value comes first in each of the triplet's.\n",
    "\n",
    " * Now I want to pop the element with the smallest number.\n",
    "\n",
    " * I then assign the 3 values to x, y, and g, which is my expansion. (Again, g is the first, x and y are the second and third).\n",
    "\n",
    " * Now I'm in the position to test whether I reach the goal. If x is the goal 0 and y is the goal 1, I'm done. I call found equals True. I print out the triplet.\n",
    "\n",
    " * Now, if I'm not done yet, then here's the interesting case.I'm going through all the possible actions(Delta is an array of 4 different actions)\n",
    "\n",
    "   * I apply the action to x and y with the addition by applying the corresponding delta vector to construct x2 and y2.\n",
    "  \n",
    "   * If x2 falls into the grid and y2 falls into the grid and [x2, y2] is not yet checked, which is tested by the field called \"closed,\" and the grid cell is navigable (there is no obstacle). If all these things are correct, then I found an expansion that I now add to the open list.\n",
    "\n",
    "      * I increment the cost from g to g2 by adding 1. In this case, cost is 1.\n",
    "      * Then I append the new [g2, x2, y2] to my open list,\n",
    "      * I check the coordinate [x2, y2] so I never expand it again.\n",
    "      * That is the recursion.\n",
    "      \n",
    "This is the key of a search algorithm.\n",
    "\n"
   ]
  },
  {
   "cell_type": "code",
   "execution_count": 1,
   "metadata": {},
   "outputs": [
    {
     "name": "stdout",
     "output_type": "stream",
     "text": [
      "Goal: [4, 5]\n"
     ]
    }
   ],
   "source": [
    "# Grid format:\n",
    "#   0 = Navigable space\n",
    "#   1 = Occupied space\n",
    "\n",
    "\n",
    "grid = [[0, 0, 1, 0, 0, 0],\n",
    "        [0, 0, 1, 0, 0, 0],\n",
    "        [0, 0, 0, 0, 1, 0],\n",
    "        [0, 0, 1, 1, 1, 0],\n",
    "        [0, 0, 0, 0, 1, 0]]\n",
    "init = [0, 0]\n",
    "goal = [len(grid)-1, len(grid[0])-1]\n",
    "print('Goal:',goal)\n",
    "cost = 1\n",
    "\n",
    "delta = [[-1, 0], # go up\n",
    "         [ 0,-1], # go left\n",
    "         [ 1, 0], # go down\n",
    "         [ 0, 1]] # go right\n",
    "\n",
    "delta_name = ['^', '<', 'v', '>']\n",
    "\n",
    "def search(grid,init,goal,cost):\n",
    "    \n",
    "    closed=[[0 for col in range(len(grid[0]))] for row in range(len(grid))]\n",
    "    closed[init[0]] [init[1]]=1\n",
    "    x=init[0]\n",
    "    y=init[1]\n",
    "    g=0\n",
    "    open=[[g,x,y]]\n",
    "    \n",
    "    found=False\n",
    "    resign=False\n",
    "    \n",
    "    #for i in range(len(closed)):\n",
    "    #    print(closed[i])\n",
    "\n",
    "    \n",
    "    while ((found is False) and (resign is False)):\n",
    "        \n",
    "    \n",
    "        if (len(open)==0):\n",
    "            resign=True\n",
    "            print('fail')\n",
    "        else:\n",
    "            open.sort()\n",
    "            open.reverse()\n",
    "            next1=open.pop()\n",
    "\n",
    "            x=next1[1]\n",
    "            y=next1[2]\n",
    "            g=next1[0]\n",
    "\n",
    "            if ((x==goal[0]) and (y==goal[1])):\n",
    "                found=True\n",
    "                print (next1)\n",
    "                print('Search successful')\n",
    "            else:\n",
    "                for i in range(len(delta)):\n",
    "                    x2=x+delta[i][0]\n",
    "                    y2=y+delta[i][1]\n",
    "                    if ((x2>=0) and (x2<len(grid)) and (y2>=0) and (y2< len(grid[0]))):\n",
    "                        if ((closed[x2][y2]==0) and (grid[x2][y2]==0)):\n",
    "                            g2=g+cost\n",
    "                            open.append([g2,x2,y2])\n",
    "                            closed[x2][y2]=1\n",
    "    print('To check cells once they are expanded: ')\n",
    "    for i in range(len(closed)):\n",
    "        print(closed[i])"
   ]
  },
  {
   "cell_type": "code",
   "execution_count": 2,
   "metadata": {},
   "outputs": [
    {
     "name": "stdout",
     "output_type": "stream",
     "text": [
      "[11, 4, 5]\n",
      "Search successful\n",
      "To check cells once they are expanded: \n",
      "[1, 1, 0, 1, 1, 1]\n",
      "[1, 1, 0, 1, 1, 1]\n",
      "[1, 1, 1, 1, 0, 1]\n",
      "[1, 1, 0, 0, 0, 1]\n",
      "[1, 1, 1, 1, 0, 1]\n"
     ]
    }
   ],
   "source": [
    "search(grid,init,goal,cost)"
   ]
  },
  {
   "cell_type": "markdown",
   "metadata": {},
   "source": [
    "# Expansion Grid"
   ]
  },
  {
   "cell_type": "markdown",
   "metadata": {},
   "source": [
    "* I make an expand table of exactly the same size but initialized it with -1.\n",
    "\n",
    "* I introduced a counter in the procedure that counts the expansion.\n",
    "\n",
    "* And then finally, there's a simple statement When I expand a node ( the else statement after  if (len(open)==0):) I set the expand index of the expanding node to count, and I add 1 to the counter.\n",
    "\n"
   ]
  },
  {
   "cell_type": "code",
   "execution_count": 3,
   "metadata": {},
   "outputs": [
    {
     "name": "stdout",
     "output_type": "stream",
     "text": [
      "Goal: [4, 5]\n"
     ]
    }
   ],
   "source": [
    "\n",
    "\n",
    "# Grid format:\n",
    "#   0 = Navigable space\n",
    "#   1 = Occupied space\n",
    "\n",
    "\n",
    "grid = [[0, 0, 1, 0, 0, 0],\n",
    "        [0, 0, 1, 0, 0, 0],\n",
    "        [0, 0, 0, 0, 1, 0],\n",
    "        [0, 0, 1, 1, 1, 0],\n",
    "        [0, 0, 0, 0, 1, 0]]\n",
    "init = [0, 0]\n",
    "goal = [len(grid)-1, len(grid[0])-1]\n",
    "print('Goal:',goal)\n",
    "cost = 1\n",
    "\n",
    "delta = [[-1, 0], # go up\n",
    "         [ 0,-1], # go left\n",
    "         [ 1, 0], # go down\n",
    "         [ 0, 1]] # go right\n",
    "\n",
    "delta_name = ['^', '<', 'v', '>']\n",
    "\n",
    "def search(grid,init,goal,cost):\n",
    "    \n",
    "    closed=[[0 for col in range(len(grid[0]))] for row in range(len(grid))]\n",
    "    expanded=[[-1 for col in range(len(grid[0]))] for row in range(len(grid))]\n",
    "    closed[init[0]] [init[1]]=1\n",
    "    x=init[0]\n",
    "    y=init[1]\n",
    "    g=0\n",
    "    open=[[g,x,y]]\n",
    "    \n",
    "    found=False\n",
    "    resign=False\n",
    "    counter=0\n",
    "    #for i in range(len(closed)):\n",
    "    #    print(closed[i])\n",
    "\n",
    "    \n",
    "    while ((found is False) and (resign is False)):\n",
    "        \n",
    "    \n",
    "        if (len(open)==0):\n",
    "            resign=True\n",
    "            print('fail')\n",
    "        else:\n",
    "            open.sort()\n",
    "            open.reverse()\n",
    "            next1=open.pop()\n",
    "\n",
    "            x=next1[1]\n",
    "            y=next1[2]\n",
    "            g=next1[0]\n",
    "            expanded[x][y]=counter\n",
    "            counter +=1\n",
    "\n",
    "            if ((x==goal[0]) and (y==goal[1])):\n",
    "                found=True\n",
    "                print (next1)\n",
    "                print('Search successful')\n",
    "            else:\n",
    "                for i in range(len(delta)):\n",
    "                    x2=x+delta[i][0]\n",
    "                    y2=y+delta[i][1]\n",
    "                    if ((x2>=0) and (x2<len(grid)) and (y2>=0) and (y2< len(grid[0]))):\n",
    "                        if ((closed[x2][y2]==0) and (grid[x2][y2]==0)):\n",
    "                            g2=g+cost\n",
    "                            open.append([g2,x2,y2])\n",
    "                            closed[x2][y2]=1\n",
    "    print()\n",
    "    print('At what step each node was expanded:')\n",
    "    for i in range(len(expanded)):\n",
    "        print(expanded[i])"
   ]
  },
  {
   "cell_type": "code",
   "execution_count": 4,
   "metadata": {},
   "outputs": [
    {
     "name": "stdout",
     "output_type": "stream",
     "text": [
      "[11, 4, 5]\n",
      "Search successful\n",
      "\n",
      "At what step each node was expanded:\n",
      "[0, 1, -1, 14, 17, 19]\n",
      "[2, 3, -1, 12, 15, 18]\n",
      "[4, 5, 7, 10, -1, 20]\n",
      "[6, 8, -1, -1, -1, 21]\n",
      "[9, 11, 13, 16, -1, 22]\n"
     ]
    }
   ],
   "source": [
    "search(grid,init,goal,cost)"
   ]
  },
  {
   "cell_type": "markdown",
   "metadata": {},
   "source": [
    "# Print Path"
   ]
  },
  {
   "attachments": {
    "image.png": {
     "image/png": "[encoded data removed]"
    }
   },
   "cell_type": "markdown",
   "metadata": {},
   "source": [
    "I would like to see an output like below, there are arrows to the right and down, which is the optimal action to take in the cells  and in the end a star, which indicates the location of the goal\n",
    "![image.png](attachment:image.png)\n",
    "\n",
    "\n",
    "\n",
    "* I make a field called \"actions\" of the same size as the grid, where I memorize for each cell what action it took to get there.\n",
    "\n",
    "So for example, if it took an action of go down to get the goal cell from the previous cell then the goal cell would have the action index for the action down.\n",
    "\n",
    "* In my node expansion routine, where I go from x to x2, which we talked about before, I now add just a single command for the successive state x2 and y2. I memorize the action it took to get there.\n",
    "\n",
    "Notice I don't associate it with x and y ( the originating state). The reason is in the originating state I'm trying out many different actions and I don't yet know which one succeeds (I associate the action with the successive state not with the originating state).\n",
    "\n",
    "* Now I have a field (actions)  that memorizes for all the action that it took but I don't have the wonderful representation. This will be compiled into a field called policy, which I initialize with blanks, but it is the same size grid.\n",
    "\n",
    "* I set the location of the goal explicitly to be the star then I go from the goal backwards.\n",
    "\n",
    "* I iterate from the goal location, x and y, now in backwards order all the way to the star. Do this as long as x and y haven't become my initial location yet.\n",
    "\n",
    "* I apply the inverse action. So I find the originating state by taking my current state and subtracting the action exactly the same way I added it before using my action field as finding out what action was actually being used.\n",
    "\n",
    "* The special symbol will be associated with this specific action\n",
    "\n",
    "* Then I recourse by setting  x and y to the state x2 y2, which  goes a step further.\n"
   ]
  },
  {
   "cell_type": "code",
   "execution_count": 316,
   "metadata": {},
   "outputs": [
    {
     "name": "stdout",
     "output_type": "stream",
     "text": [
      "Goal: [4, 5]\n"
     ]
    }
   ],
   "source": [
    "\n",
    "\n",
    "# Grid format:\n",
    "#   0 = Navigable space\n",
    "#   1 = Occupied space\n",
    "\n",
    "\n",
    "\n",
    "grid = [[0, 1, 0, 0, 0, 0],\n",
    "        [0, 1, 0, 0, 0, 0],\n",
    "        [0, 1, 0, 0, 0, 0],\n",
    "        [0, 1, 0, 0, 0, 0],\n",
    "        [0, 0, 0, 0, 0, 0]]\n",
    "init = [0, 0]\n",
    "goal = [len(grid)-1, len(grid[0])-1]\n",
    "print('Goal:',goal)\n",
    "cost = 1\n",
    "\n",
    "delta = [[-1, 0], # go up\n",
    "         [ 0,-1], # go left\n",
    "         [ 1, 0], # go down\n",
    "         [ 0, 1]] # go right\n",
    "\n",
    "delta_name = ['^', '<', 'v', '>']\n",
    "\n",
    "def search(grid,init,goal,cost):\n",
    "    \n",
    "    closed=[[0 for row in range(len(grid[0]))] for col in range(len(grid))]\n",
    "    expanded=[[-1 for row in range(len(grid[0]))] for col in range(len(grid))]\n",
    "    actions=[[-1 for row in range(len(grid[0]))] for col in range(len(grid))]\n",
    "    closed[init[0]] [init[1]]=1\n",
    "    x=init[0]\n",
    "    y=init[1]\n",
    "    g=0\n",
    "    open=[[g,x,y]]\n",
    "    \n",
    "    found=False\n",
    "    resign=False\n",
    "    counter=0\n",
    "\n",
    "\n",
    "    \n",
    "    while ((found is False) and (resign is False)):\n",
    "        \n",
    "    \n",
    "        if (len(open)==0):\n",
    "            resign=True\n",
    "            print('fail')\n",
    "        else:\n",
    "            open.sort()\n",
    "            open.reverse()\n",
    "            next1=open.pop()\n",
    "\n",
    "            x=next1[1]\n",
    "            y=next1[2]\n",
    "            g=next1[0]\n",
    "            expanded[x][y]=counter\n",
    "            counter +=1\n",
    "\n",
    "            if ((x==goal[0]) and (y==goal[1])):\n",
    "                found=True\n",
    "                print (next1)\n",
    "                print('Search successful')\n",
    "            else:\n",
    "                for i in range(len(delta)):\n",
    "                    x2=x+delta[i][0]\n",
    "                    y2=y+delta[i][1]\n",
    "                    if ((x2>=0) and (x2<len(grid)) and (y2>=0) and (y2< len(grid[0]))):\n",
    "                        if ((closed[x2][y2]==0) and (grid[x2][y2]==0)):\n",
    "                            g2=g+cost\n",
    "                            open.append([g2,x2,y2])\n",
    "                            closed[x2][y2]=1\n",
    "                            actions[x2][y2]=i\n",
    "    policy=[[' ' for col in range(len(grid[0]))] for row in range(len(grid))]\n",
    "    x=goal[0]\n",
    "    y=goal[1]\n",
    "    policy[x][y]='*'\n",
    "\n",
    "    while(x!=init[0] or y!=init[1]):\n",
    "        x2=x-delta[actions[x][y]][0]\n",
    "        y2=y-delta[actions[x][y]][1]\n",
    "        policy[x2][y2]=delta_name[actions[x][y]]\n",
    "        x=x2\n",
    "        y=y2\n",
    "    print()\n",
    "    print('Expansion:')\n",
    "    for i in range(len(expanded)):\n",
    "        print(expanded[i])\n",
    "    print()\n",
    "    print('Policy:')\n",
    "    for i in range(len(policy)):\n",
    "        print(policy[i])\n"
   ]
  },
  {
   "cell_type": "code",
   "execution_count": 317,
   "metadata": {},
   "outputs": [
    {
     "name": "stdout",
     "output_type": "stream",
     "text": [
      "[9, 4, 5]\n",
      "Search successful\n",
      "\n",
      "Expansion:\n",
      "[0, -1, -1, -1, -1, -1]\n",
      "[1, -1, 12, -1, -1, -1]\n",
      "[2, -1, 9, 13, -1, -1]\n",
      "[3, -1, 7, 10, 14, -1]\n",
      "[4, 5, 6, 8, 11, 15]\n",
      "\n",
      "Policy:\n",
      "['v', ' ', ' ', ' ', ' ', ' ']\n",
      "['v', ' ', ' ', ' ', ' ', ' ']\n",
      "['v', ' ', ' ', ' ', ' ', ' ']\n",
      "['v', ' ', ' ', ' ', ' ', ' ']\n",
      "['>', '>', '>', '>', '>', '*']\n"
     ]
    }
   ],
   "source": [
    "search(grid,init,goal,cost)"
   ]
  },
  {
   "cell_type": "markdown",
   "metadata": {},
   "source": [
    "# Implement A*"
   ]
  },
  {
   "cell_type": "markdown",
   "metadata": {},
   "source": [
    "* the heuristic function is given you of simply the minimum steps it takes to the goal in the absence of obstacles and we can construct the A* algorithm by maintaining not just the  G-values but also the F-values, which is the G- plus the heuristic.\n",
    "\n",
    "* The very first thing we do is expand elements in the open list to not just contain G as before but also F. I alos included h, which is not necessary but I did it anyhow. Now we have five tuples, where g is defined as before, h is heuristic function value of the cell x and y and f is the sum of the two.\n",
    "\n",
    "* The reason why I put f left is I need this for my sort trick, I can sort according to F and the element,  when I remove, will be the one with lowest f-value not the lowest g-value.\n",
    "\n",
    "* I need to restructure the index into the next1 structure.\n",
    "\n",
    "* By computing all possible actions (expand wining element section) and  expanding a node from the open list which has all conditions, I compute the heuristic function for the new expanded node called h2 and in the next line of code I compute the new sum of the g value and the h-value called f2.\n",
    " \n",
    "* Then the new five things (the new f value, the new g value the new h value and corresponding x and y value) will be appended to the open list.\n"
   ]
  },
  {
   "cell_type": "code",
   "execution_count": 275,
   "metadata": {},
   "outputs": [
    {
     "name": "stdout",
     "output_type": "stream",
     "text": [
      "Goal: [4, 5]\n"
     ]
    }
   ],
   "source": [
    "\n",
    "\n",
    "# Grid format:\n",
    "#   0 = Navigable space\n",
    "#   1 = Occupied space\n",
    "\n",
    "\n",
    "grid = [[0, 1, 0, 0, 0, 0],\n",
    "        [0, 1, 0, 0, 0, 0],\n",
    "        [0, 1, 0, 0, 0, 0],\n",
    "        [0, 1, 0, 0, 0, 0],\n",
    "        [0, 0, 0, 0, 0, 0]]\n",
    "\n",
    "heuristic = [[9, 8, 7, 6, 5, 4],\n",
    "             [8, 7, 6, 5, 4, 3],\n",
    "             [7, 6, 5, 4, 3, 2],\n",
    "             [6, 5, 4, 3, 2, 1],\n",
    "             [5, 4, 3, 2, 1, 0]]\n",
    "\n",
    "init = [0, 0]\n",
    "goal = [len(grid)-1, len(grid[0])-1]\n",
    "print('Goal:',goal)\n",
    "cost = 1\n",
    "\n",
    "delta = [[-1, 0], # go up\n",
    "         [ 0,-1], # go left\n",
    "         [ 1, 0], # go down\n",
    "         [ 0, 1]] # go right\n",
    "\n",
    "delta_name = ['^', '<', 'v', '>']\n",
    "\n",
    "def search(grid,init,goal,cost):\n",
    "    \n",
    "    closed=[[0 for col in range(len(grid[0]))] for row in range(len(grid))]\n",
    "    expanded=[[-1 for col in range(len(grid[0]))] for row in range(len(grid))]\n",
    "    actions=[[-1 for col in range(len(grid[0]))] for row in range(len(grid))]\n",
    "    closed[init[0]] [init[1]]=1\n",
    "    x=init[0]\n",
    "    y=init[1]\n",
    "    h=heuristic[x][y]\n",
    "    g=0\n",
    "    f=g+h\n",
    "    open=[[f,g,h,x,y]]\n",
    "    \n",
    "    found=False\n",
    "    resign=False\n",
    "    counter=0\n",
    "    #for i in range(len(actions)):\n",
    "    #   print(actions[i])\n",
    "\n",
    "    \n",
    "    while ((found is False) and (resign is False)):\n",
    "        \n",
    "    \n",
    "        if (len(open)==0):\n",
    "            resign=True\n",
    "            print('fail')\n",
    "        else:\n",
    "            open.sort()\n",
    "            open.reverse()\n",
    "            next1=open.pop()\n",
    "\n",
    "            x=next1[3]\n",
    "            y=next1[4]\n",
    "            g=next1[1]\n",
    "            expanded[x][y]=counter\n",
    "            counter +=1\n",
    "\n",
    "            if ((x==goal[0]) and (y==goal[1])):\n",
    "                found=True\n",
    "                print (next1)\n",
    "                print('Search successful')\n",
    "            else:\n",
    "                #expand wining element and to new open list  \n",
    "                for i in range(len(delta)):\n",
    "                    x2=x+delta[i][0]\n",
    "                    y2=y+delta[i][1]\n",
    "                    if ((x2>=0) and (x2<len(grid)) and (y2>=0) and (y2< len(grid[0]))):\n",
    "                        if ((closed[x2][y2]==0) and (grid[x2][y2]==0)):\n",
    "                            g2=g+cost\n",
    "                            h2=heuristic[x2][y2]\n",
    "                            f2=g2+h2\n",
    "                            open.append([f2,g2,h2,x2,y2])\n",
    "                            closed[x2][y2]=1\n",
    "                            actions[x2][y2]=i\n",
    "    policy=[[' ' for col in range(len(grid[0]))] for row in range(len(grid))]\n",
    "    x=goal[0]\n",
    "    y=goal[1]\n",
    "    policy[x][y]='*'\n",
    "\n",
    "    while(x!=init[0] or y!=init[1]):\n",
    "        x2=x-delta[actions[x][y]][0]\n",
    "        y2=y-delta[actions[x][y]][1]\n",
    "        policy[x2][y2]=delta_name[actions[x][y]]\n",
    "        x=x2\n",
    "        y=y2\n",
    "    print()\n",
    "    print('Expansion:')\n",
    "    for i in range(len(expanded)):\n",
    "        print(expanded[i])\n",
    "    print()\n",
    "    print('Policy:')\n",
    "    for i in range(len(policy)):\n",
    "        print(policy[i])"
   ]
  },
  {
   "cell_type": "code",
   "execution_count": 276,
   "metadata": {},
   "outputs": [
    {
     "name": "stdout",
     "output_type": "stream",
     "text": [
      "[9, 9, 0, 4, 5]\n",
      "Search successful\n",
      "\n",
      "Expansion:\n",
      "[0, -1, -1, -1, -1, -1]\n",
      "[1, -1, -1, -1, -1, -1]\n",
      "[2, -1, -1, -1, -1, -1]\n",
      "[3, -1, -1, -1, -1, -1]\n",
      "[4, 5, 6, 7, 8, 9]\n",
      "\n",
      "Policy:\n",
      "['v', ' ', ' ', ' ', ' ', ' ']\n",
      "['v', ' ', ' ', ' ', ' ', ' ']\n",
      "['v', ' ', ' ', ' ', ' ', ' ']\n",
      "['v', ' ', ' ', ' ', ' ', ' ']\n",
      "['>', '>', '>', '>', '>', '*']\n"
     ]
    }
   ],
   "source": [
    "search(grid,init,goal,cost)"
   ]
  },
  {
   "cell_type": "markdown",
   "metadata": {},
   "source": [
    "# Dynamic Programming"
   ]
  },
  {
   "cell_type": "markdown",
   "metadata": {},
   "source": [
    "1. We have a value function that is the same size as my world, and I initialize with 99 everywhere (this has to be evaluated as large enough it doesn't conflict with any actual value).\n",
    "2. I introduced the variable \"change,\" which I set to True in the beginning. While change is true, I update, but I nearly set change to False. The only way to come back to True is that I actually changed something.\n",
    "3. By update the value function a number times (I don't know how often but as long as change something).\n",
    "4. Now I go through all the grid cells in a fixed order (It happens to be not very efficient, but certainly gets the job done).\n",
    "5. I first check if the grid cell I'm considering is the goal (Here is a typical case where I check for change) .If the value is presently correctly set to 0, I don't do anything. If it's larger than 0, such as 99, then I set it down to 0, and I've just changed something. Therefore, I set the change flag back to True.\n",
    "6. If it's not a goal cell, then is my full update function.I go through all the actions. I project a potential next state upon executing an action by adding the corresponding delta to the x and y. That gives me x2 and y2. I test whether x2 and y2 are legitimate states (For that they have to be inside the grid and I check whether the numbers are larger than 0 and smaller than the dimension of the grid and it has to be an action that action navigable grid cell).\n",
    "7. If that's the case, My new value is the value of this future grid cell plus the cost per step, which happens to be 1.\n",
    "8. Now, if this new  value is better than the value I have already, which means it is smaller,then I assign this new value to my original grid cell x and y, plus of course the cost step.Then I know I've changed something.Therefore I set change to \"True,\" and the procedure repeats.\n",
    "\n",
    "\n"
   ]
  },
  {
   "cell_type": "code",
   "execution_count": 318,
   "metadata": {},
   "outputs": [],
   "source": [
    "\n",
    "\n",
    "grid = [[0, 1, 0, 0, 0, 0],\n",
    "        [0, 1, 0, 0, 0, 0],\n",
    "        [0, 1, 0, 0, 0, 0],\n",
    "        [0, 1, 0, 0, 0, 0],\n",
    "        [0, 0, 0, 0, 1, 0]]\n",
    "init = [0, 0]\n",
    "goal = [len(grid)-1, len(grid[0])-1]\n",
    "cost = 1 # the cost associated with moving from a cell to an adjacent one\n",
    "\n",
    "delta = [[-1, 0 ], # go up\n",
    "         [ 0, -1], # go left\n",
    "         [ 1, 0 ], # go down\n",
    "         [ 0, 1 ]] # go right\n",
    "\n",
    "delta_name = ['^', '<', 'v', '>']\n",
    "\n",
    "def optimum_policy(grid,goal,cost):\n",
    "    #1\n",
    "    value = [[99 for row in range(len(grid[0]))] for col in range(len(grid))]\n",
    "    #2\n",
    "    change = True\n",
    "    #3\n",
    "    while change:\n",
    "        change = False\n",
    "        #4\n",
    "        for x in range(len(grid)):\n",
    "            for y in range(len(grid[0])):\n",
    "                #5\n",
    "                if goal[0] == x and goal[1] == y:\n",
    "                    if value[x][y] > 0:\n",
    "                        value[x][y] = 0\n",
    "\n",
    "                        change = True\n",
    "                #6\n",
    "                elif grid[x][y] == 0:\n",
    "                    for a in range(len(delta)):\n",
    "                        x2 = x + delta[a][0]\n",
    "                        y2 = y + delta[a][1]\n",
    "\n",
    "                        if x2 >= 0 and x2 < len(grid) and y2 >= 0 and y2 < len(grid[0]) and grid[x2][y2] == 0:\n",
    "                            #7\n",
    "                            v2 = value[x2][y2] + cost\n",
    "                            #8\n",
    "                            if v2 < value[x][y]:\n",
    "                                change = True\n",
    "                                value[x][y] = v2\n",
    "\n",
    "    return value\n"
   ]
  },
  {
   "cell_type": "code",
   "execution_count": 319,
   "metadata": {},
   "outputs": [
    {
     "data": {
      "text/plain": [
       "[[11, 99, 7, 6, 5, 4],\n",
       " [10, 99, 6, 5, 4, 3],\n",
       " [9, 99, 5, 4, 3, 2],\n",
       " [8, 99, 4, 3, 2, 1],\n",
       " [7, 6, 5, 4, 99, 0]]"
      ]
     },
     "execution_count": 319,
     "metadata": {},
     "output_type": "execute_result"
    }
   ],
   "source": [
    "optimum_policy(grid,goal,cost)"
   ]
  },
  {
   "cell_type": "markdown",
   "metadata": {},
   "source": [
    "**I should warn you this is not very efficient.The reason why it is not efficient is that value slowly propagates from the end towards the beginning.But leaving this concern aside, it actually computes the correct value function.There are ways to make it more efficient.**"
   ]
  },
  {
   "cell_type": "markdown",
   "metadata": {},
   "source": [
    "# Print Optimum Policy"
   ]
  },
  {
   "cell_type": "markdown",
   "metadata": {},
   "source": [
    "\n",
    "1. I defined a field called \"policy\" of the same size as my grid, initialized it with lots of spaces.\n",
    "\n",
    "2. Now in my dynamic programming procedure check for whether we have reached the goal state, and we have. Then I set the corresponding element to star, using a single new command that just sets policy [x, y] to star.\n",
    "\n",
    "3. Finally, in my big update loop where I assign an improved value to a grid cell [x, y] based on its successor (section #8), I assign to the policy the character that corresponds to the action that led to that update over here.\n",
    "\n",
    "Put differently, as we look for a better value we look into all possible directions by looping over all actions. If one of those succeeds, I just memorize in my policy function what that action was with a command “    policy[x][y]=delta_name[a]”.\n",
    "\n",
    "\n"
   ]
  },
  {
   "cell_type": "code",
   "execution_count": 310,
   "metadata": {},
   "outputs": [],
   "source": [
    "grid = [[0, 1, 0, 0, 0, 0],\n",
    "        [0, 1, 0, 0, 0, 0],\n",
    "        [0, 1, 0, 0, 0, 0],\n",
    "        [0, 1, 0, 0, 0, 0],\n",
    "        [0, 0, 0, 0, 1, 0]]\n",
    "init = [0, 0]\n",
    "goal = [len(grid)-1, len(grid[0])-1]\n",
    "cost = 1 # the cost associated with moving from a cell to an adjacent one\n",
    "\n",
    "delta = [[-1, 0 ], # go up\n",
    "         [ 0, -1], # go left\n",
    "         [ 1, 0 ], # go down\n",
    "         [ 0, 1 ]] # go right\n",
    "\n",
    "delta_name = ['^', '<', 'v', '>']\n",
    "\n",
    "def optimum_policy(grid,goal,cost):\n",
    "\n",
    "    value = [[99 for row in range(len(grid[0]))] for col in range(len(grid))]\n",
    "    #1\n",
    "    policy = [[' ' for row in range(len(grid[0]))] for col in range(len(grid))]\n",
    "\n",
    "    change = True\n",
    "\n",
    "    while change:\n",
    "        change = False\n",
    "        for x in range(len(grid)):\n",
    "            for y in range(len(grid[0])):\n",
    "                if goal[0] == x and goal[1] == y:\n",
    "                    if value[x][y] > 0:\n",
    "                        value[x][y] = 0\n",
    "                        #2\n",
    "                        policy[x][y]='*'\n",
    "\n",
    "                        change = True\n",
    "                elif grid[x][y] == 0:\n",
    "                    for a in range(len(delta)):\n",
    "                        x2 = x + delta[a][0]\n",
    "                        y2 = y + delta[a][1]\n",
    "\n",
    "                        if x2 >= 0 and x2 < len(grid) and y2 >= 0 and y2 < len(grid[0]) and grid[x2][y2] == 0:\n",
    "                            v2 = value[x2][y2] + cost\n",
    "                            if v2 < value[x][y]:\n",
    "                                change = True\n",
    "                                value[x][y] = v2\n",
    "                                #3\n",
    "                                policy[x][y]=delta_name[a]\n",
    "\n",
    "    return policy\n"
   ]
  },
  {
   "cell_type": "code",
   "execution_count": 311,
   "metadata": {},
   "outputs": [
    {
     "data": {
      "text/plain": [
       "[['v', ' ', 'v', 'v', 'v', 'v'],\n",
       " ['v', ' ', 'v', 'v', 'v', 'v'],\n",
       " ['v', ' ', 'v', 'v', 'v', 'v'],\n",
       " ['v', ' ', '>', '>', '>', 'v'],\n",
       " ['>', '>', '^', '^', ' ', '*']]"
      ]
     },
     "execution_count": 311,
     "metadata": {},
     "output_type": "execute_result"
    }
   ],
   "source": [
    "optimum_policy(grid,goal,cost)"
   ]
  },
  {
   "cell_type": "markdown",
   "metadata": {},
   "source": [
    "# Left Turn Policy"
   ]
  },
  {
   "cell_type": "markdown",
   "metadata": {},
   "source": [
    "Well, in real traffic, often you have to wait for oncoming traffic. Let me say in our planning, left turns are more expensive. In fact, I should mention that parcel delivery services that plan for optimal routes of trucks like FedEx and UPS in the States, they actually plan routes that try to avoid left turns during rush hours, because it just takes much longer to do left turns.\n",
    "\n",
    "For this reason, we would like to punish left turns, to perform this policy we need change cost for each action we have. Suppose we have a car like figure  below. This car now has its state an x, a y, and an orientation (theta).By orientation for simplicity is chosen from 4 possible directions (up, down, left, and right).  I'd like to get to the location B (facing left). Realize that now the state space is 3-dimensional,I now would like to implement a dynamic programming planner that gives me the optimal path for going from A to B by considering the cost policy for each action.\n",
    "\n",
    "\n",
    "There are three principle actions.\n",
    "* One is move in which the car just goes 1 grid cell forward in its present orientation. It doesn't turn at all. That could be applied anywhere in the maze in any direction.\n",
    "* One is turn left and then move.\n",
    "* The last one is turn right and move.\n",
    "\n",
    "\n",
    "You can see there in the map a street that's navigable, and the loop on the right side (remember that now this state space is 3-dimensional, not 2- dimensional).\n",
    "\n",
    "* Our goal is to move to cell [2, 0], \n",
    "\n",
    "* The initial state has not just a position of [4, 3] but also an orientation of 0 (It's a 3-dimensional state)\n",
    "\n",
    "The interesting things are actions, we have 3 actions. We can add to the index orientation -1, 0, or 1.\n",
    "\n",
    "* If we add -1 we jump 1 up in the cyclic array, which is the same as doing a right turn. For example, if you go from go left to go up, that the same as turning right.\n",
    "\n",
    "* if we add +1, that's the same as turning left.\n",
    "* If we leave the orientation unchanged, then we go straight.\n",
    "\n",
    "These actions come with different costs:\n",
    "\n",
    "* Right now the right turn costs me 20\n",
    "* Going straight costs me 1 \n",
    "* Going left costs me 1 as well, which, as we all know, makes the left turn the preferred solution over here.\n",
    "\n",
    "If I were to increase the cost for the left action to 20, then my path to get the location changes.\n",
    "\n",
    "\n",
    "There is one more hint. The value function itself is 3-dimensional and it has inside 4 identical arrays of the size of the grid concatenated into a mega grid and initialized all by a very large value (999) in this case.\n",
    "\n",
    "\n",
    "\n",
    "\n",
    "\n",
    "\n",
    "\n",
    "\n",
    "\n"
   ]
  },
  {
   "cell_type": "markdown",
   "metadata": {},
   "source": [
    "### The solution"
   ]
  },
  {
   "cell_type": "markdown",
   "metadata": {},
   "source": [
    "1. The solution, I have the value function initialized. It has lots of 999s. The policy is a similar function in 3D. I have a function called policy2d, which is the one I'm later going to print. That's the same in 2D.\n",
    "2. My update function is exactly the same as before for dynamic programming.While change exists, go through [x, y]'s and all orientations of which there are 4.\n",
    "3.  If you found the goal location then update the value and if there's an actual update, set \"change\" to True and also mark it as the goal location.\n",
    "4.  Otherwise, if our grid cell is navigable at all, We go through the 3 different actions. When we tag the i<sub>th</sub> action, we add the corresponding orientation change to our orientation, modulo 4. It's a cyclic buffer, (this might subtract 1., Keeping it the same  or will add 1 to orientation). Then we apply the corresponding new motion model to x and y to obtain x2 and y2.\n",
    "5. If we arrived at a valid grid cell in that it's still inside the grid and it's not an obstacle, then like before we add to the value the value of this new grid cell plus the cost of the corresponding action.This is non-uniform, depending on what action we pick now.\n",
    "6. By improving the existing value we set the old value to be the new value, and we mark change as True. We also memorize the action name as before.\n",
    "7. However, I want to print out a 2-dimensional table, not a 3-dimensional table. To get to the 2-dimensional table, I now need to be sensitive of my initial state.\n",
    "8. I set the initial state to be x, y, and orientation and All I do now is run the policy with the very first state, While I haven't reached the goal state quite yet as indicated by checking for the star in my policy table.\n",
    "9. Now, my policy table has a hash mark R and L,\n",
    "\n",
    "    * If it's a hash mark, we just keep our orientation the way it is.\n",
    "\n",
    "    * If it's R, I turn to the right. \n",
    "\n",
    "    * L is turn to the left.\n",
    "10. I apply my forward motion and I update my new x and y coordinates to be the corresponding after the motion and I update my orientation to be o2.\n",
    "11. Finally, I copy the 3-dimensional symbol for my policy straight into the 2-dimensional array. This is the array that I finally print.\n",
    "\n"
   ]
  },
  {
   "cell_type": "code",
   "execution_count": 346,
   "metadata": {},
   "outputs": [],
   "source": [
    "forward = [[-1,  0], # go up\n",
    "           [ 0, -1], # go left\n",
    "           [ 1,  0], # go down\n",
    "           [ 0,  1]] # go right\n",
    "forward_name = ['up', 'left', 'down', 'right']\n",
    "\n",
    "# action has 3 values: right turn, no turn, left turn\n",
    "action = [-1, 0, 1]\n",
    "action_name = ['R', '#', 'L']\n",
    "\n",
    "# EXAMPLE INPUTS:\n",
    "# grid format:\n",
    "#     0 = navigable space\n",
    "#     1 = unnavigable space \n",
    "grid = [[1, 1, 1, 0, 0, 0],\n",
    "        [1, 1, 1, 0, 1, 0],\n",
    "        [0, 0, 0, 0, 0, 0],\n",
    "        [1, 1, 1, 0, 1, 1],\n",
    "        [1, 1, 1, 0, 1, 1]]\n",
    "\n",
    "init = [4, 3, 0] # given in the form [row,col,direction]\n",
    "                 # direction = 0: up\n",
    "                 #             1: left\n",
    "                 #             2: down\n",
    "                 #             3: right\n",
    "                \n",
    "goal = [2, 0] # given in the form [row,col]\n",
    "\n",
    "cost = [2, 1, 20] # cost has 3 values, corresponding to making \n",
    "                  # a right turn, no turn, and a left turn\n",
    "\n",
    "\n",
    "# EXAMPLE OUTPUT:\n",
    "# calling optimum_policy2D with the given parameters should return \n",
    "# [[' ', ' ', ' ', 'R', '#', 'R'],\n",
    "#  [' ', ' ', ' ', '#', ' ', '#'],\n",
    "#  ['*', '#', '#', '#', '#', 'R'],\n",
    "#  [' ', ' ', ' ', '#', ' ', ' '],\n",
    "#  [' ', ' ', ' ', '#', ' ', ' ']]\n",
    "# ----------\n",
    "\n",
    "# ----------------------------------------\n",
    "# modify code below\n",
    "# ----------------------------------------\n",
    "\n",
    "def optimum_policy2D(grid,init,goal,cost):\n",
    "    value = [[[999 for row in range(len(grid[0]))] for col in range(len(grid))],\n",
    "             [[999 for row in range(len(grid[0]))] for col in range(len(grid))],\n",
    "             [[999 for row in range(len(grid[0]))] for col in range(len(grid))],\n",
    "             [[999 for row in range(len(grid[0]))] for col in range(len(grid))]]\n",
    "    #1\n",
    "    policy = [[[' ' for row in range(len(grid[0]))] for col in range(len(grid))],\n",
    "              [[' ' for row in range(len(grid[0]))] for col in range(len(grid))],\n",
    "              [[' ' for row in range(len(grid[0]))] for col in range(len(grid))],\n",
    "              [[' ' for row in range(len(grid[0]))] for col in range(len(grid))]]\n",
    "    \n",
    "    policy2D=[[' ' for row in range(len(grid[0]))] for col in range(len(grid))]\n",
    "\n",
    "    \n",
    "    change=True\n",
    "    while change:\n",
    "        change=False\n",
    "        for x in range(len(grid)):\n",
    "            for y in range(len(grid[0])):\n",
    "                for orientation in range(len(forward)):\n",
    "                    if x==goal[0] and y==goal[1]:\n",
    "                        if value[orientation][x][y]>0:\n",
    "                            change=True\n",
    "                            value[orientation][x][y]=0\n",
    "                            policy[orientation][x][y]='*'\n",
    "                    elif grid[x][y]==0:\n",
    "                        for i in range(len(action)):\n",
    "                            o2=(orientation+action[i])%4\n",
    "                            x2=x+forward[o2][0]\n",
    "                            y2=y+forward[o2][1]\n",
    "                            \n",
    "                            if x2 >= 0 and x2 < len(grid) and y2 >= 0 and y2 < len(grid[0]) and grid[x2][y2] == 0:\n",
    "                                v2=value[o2][x2][y2]+cost[i]\n",
    "                                if v2<value[orientation][x][y]:\n",
    "                                    value[orientation][x][y]=v2\n",
    "                                    policy[orientation][x][y]=action_name[i]\n",
    "                                    change=True\n",
    "    x=init[0]\n",
    "    y=init[1]\n",
    "    orientation=init[2]\n",
    "    policy2D[x][y]=policy[orientation][x][y]\n",
    "    while policy[orientation][x][y]!='*':\n",
    "        if policy[orientation][x][y]=='#':\n",
    "            o2=orientation\n",
    "        elif policy[orientation][x][y]=='R':\n",
    "            o2=(orientation-1)%4\n",
    "        elif policy[orientation][x][y]=='L':\n",
    "            o2=(orientation+1)%4\n",
    "        x=x+forward[o2][0]\n",
    "        y=y+forward[o2][1]\n",
    "        orientation=o2\n",
    "        policy2D[x][y]=policy[orientation][x][y]\n",
    "\n",
    "    return policy2D\n"
   ]
  },
  {
   "cell_type": "code",
   "execution_count": 347,
   "metadata": {},
   "outputs": [
    {
     "data": {
      "text/plain": [
       "[[' ', ' ', ' ', 'R', '#', 'R'],\n",
       " [' ', ' ', ' ', '#', ' ', '#'],\n",
       " ['*', '#', '#', '#', '#', 'R'],\n",
       " [' ', ' ', ' ', '#', ' ', ' '],\n",
       " [' ', ' ', ' ', '#', ' ', ' ']]"
      ]
     },
     "execution_count": 347,
     "metadata": {},
     "output_type": "execute_result"
    }
   ],
   "source": [
    "optimum_policy2D(grid,init,goal,cost)"
   ]
  },
  {
   "cell_type": "code",
   "execution_count": 329,
   "metadata": {},
   "outputs": [
    {
     "data": {
      "text/plain": [
       "3"
      ]
     },
     "execution_count": 329,
     "metadata": {},
     "output_type": "execute_result"
    }
   ],
   "source": [
    "len(action)"
   ]
  },
  {
   "cell_type": "code",
   "execution_count": null,
   "metadata": {},
   "outputs": [],
   "source": []
  }
 ],
 "metadata": {
  "kernelspec": {
   "display_name": "Python 3",
   "language": "python",
   "name": "python3"
  },
  "language_info": {
   "codemirror_mode": {
    "name": "ipython",
    "version": 3
   },
   "file_extension": ".py",
   "mimetype": "text/x-python",
   "name": "python",
   "nbconvert_exporter": "python",
   "pygments_lexer": "ipython3",
   "version": "3.6.4"
  }
 },
 "nbformat": 4,
 "nbformat_minor": 2
}
